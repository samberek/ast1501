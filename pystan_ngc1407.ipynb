{
 "cells": [
  {
   "cell_type": "code",
   "execution_count": 11,
   "metadata": {},
   "outputs": [],
   "source": [
    "import numpy as np\n",
    "from astropy.io import ascii\n",
    "import pandas as pd\n",
    "import matplotlib.pyplot as plt\n",
    "import pystan as ps\n",
    "import arviz as av\n",
    "import seaborn as sns\n",
    "import pickle\n",
    "\n",
    "%matplotlib inline"
   ]
  },
  {
   "cell_type": "code",
   "execution_count": 4,
   "metadata": {},
   "outputs": [],
   "source": [
    "data = ascii.read('/Users/samberek/Courses/1501project/data/table5/NGC1407_GC.cat')"
   ]
  },
  {
   "cell_type": "code",
   "execution_count": 5,
   "metadata": {},
   "outputs": [
    {
     "data": {
      "text/html": [
       "<i>Table length=374</i>\n",
       "<table id=\"table140247000380272\" class=\"table-striped table-bordered table-condensed\">\n",
       "<thead><tr><th>ID</th><th>RA</th><th>DEC</th><th>RV</th><th>RV_err</th><th>RAD</th></tr></thead>\n",
       "<thead><tr><th>str12</th><th>float64</th><th>float64</th><th>int64</th><th>int64</th><th>float64</th></tr></thead>\n",
       "<tr><td>NGC1407_S1</td><td>55.031092</td><td>-18.499864</td><td>1436</td><td>12</td><td>4.93</td></tr>\n",
       "<tr><td>NGC1407_S2</td><td>55.052983</td><td>-18.594181</td><td>1883</td><td>7</td><td>0.87</td></tr>\n",
       "<tr><td>NGC1407_S3</td><td>55.060592</td><td>-18.592561</td><td>1509</td><td>5</td><td>0.98</td></tr>\n",
       "<tr><td>NGC1407_S4</td><td>55.074404</td><td>-18.552261</td><td>2008</td><td>6</td><td>2.19</td></tr>\n",
       "<tr><td>NGC1407_S5</td><td>55.217613</td><td>-18.502664</td><td>1966</td><td>5</td><td>10.63</td></tr>\n",
       "<tr><td>NGC1407_S6</td><td>54.986208</td><td>-18.603747</td><td>1951</td><td>6</td><td>3.86</td></tr>\n",
       "<tr><td>NGC1407_S7</td><td>55.05315</td><td>-18.607761</td><td>2090</td><td>8</td><td>1.67</td></tr>\n",
       "<tr><td>NGC1407_S8</td><td>55.193054</td><td>-18.454867</td><td>1572</td><td>11</td><td>11.1</td></tr>\n",
       "<tr><td>NGC1407_S9</td><td>55.064321</td><td>-18.564747</td><td>1861</td><td>11</td><td>1.25</td></tr>\n",
       "<tr><td>NGC1407_S10</td><td>55.058108</td><td>-18.5202</td><td>1539</td><td>10</td><td>3.63</td></tr>\n",
       "<tr><td>...</td><td>...</td><td>...</td><td>...</td><td>...</td><td>...</td></tr>\n",
       "<tr><td>NGC1407_S365</td><td>54.963417</td><td>-18.596917</td><td>1540</td><td>43</td><td>4.99</td></tr>\n",
       "<tr><td>NGC1407_S366</td><td>54.995375</td><td>-18.588222</td><td>1562</td><td>23</td><td>3.11</td></tr>\n",
       "<tr><td>NGC1407_S367</td><td>54.956875</td><td>-18.412583</td><td>2089</td><td>54</td><td>11.35</td></tr>\n",
       "<tr><td>NGC1407_S368</td><td>54.956333</td><td>-18.560361</td><td>1758</td><td>8</td><td>5.42</td></tr>\n",
       "<tr><td>NGC1407_S369</td><td>54.997625</td><td>-18.615611</td><td>1710</td><td>27</td><td>3.63</td></tr>\n",
       "<tr><td>NGC1407_S370</td><td>54.960417</td><td>-18.430722</td><td>1888</td><td>23</td><td>10.29</td></tr>\n",
       "<tr><td>NGC1407_S371</td><td>54.942917</td><td>-18.610333</td><td>1526</td><td>13</td><td>6.32</td></tr>\n",
       "<tr><td>NGC1407_S372</td><td>54.994208</td><td>-18.62725</td><td>1895</td><td>34</td><td>4.23</td></tr>\n",
       "<tr><td>NGC1407_S373</td><td>54.953542</td><td>-18.556333</td><td>1791</td><td>9</td><td>5.64</td></tr>\n",
       "<tr><td>NGC1407_S374</td><td>54.948875</td><td>-18.532333</td><td>2180</td><td>21</td><td>6.4</td></tr>\n",
       "</table>"
      ],
      "text/plain": [
       "<Table length=374>\n",
       "     ID          RA       DEC       RV  RV_err   RAD  \n",
       "   str12      float64   float64   int64 int64  float64\n",
       "------------ --------- ---------- ----- ------ -------\n",
       "  NGC1407_S1 55.031092 -18.499864  1436     12    4.93\n",
       "  NGC1407_S2 55.052983 -18.594181  1883      7    0.87\n",
       "  NGC1407_S3 55.060592 -18.592561  1509      5    0.98\n",
       "  NGC1407_S4 55.074404 -18.552261  2008      6    2.19\n",
       "  NGC1407_S5 55.217613 -18.502664  1966      5   10.63\n",
       "  NGC1407_S6 54.986208 -18.603747  1951      6    3.86\n",
       "  NGC1407_S7  55.05315 -18.607761  2090      8    1.67\n",
       "  NGC1407_S8 55.193054 -18.454867  1572     11    11.1\n",
       "  NGC1407_S9 55.064321 -18.564747  1861     11    1.25\n",
       " NGC1407_S10 55.058108   -18.5202  1539     10    3.63\n",
       "         ...       ...        ...   ...    ...     ...\n",
       "NGC1407_S365 54.963417 -18.596917  1540     43    4.99\n",
       "NGC1407_S366 54.995375 -18.588222  1562     23    3.11\n",
       "NGC1407_S367 54.956875 -18.412583  2089     54   11.35\n",
       "NGC1407_S368 54.956333 -18.560361  1758      8    5.42\n",
       "NGC1407_S369 54.997625 -18.615611  1710     27    3.63\n",
       "NGC1407_S370 54.960417 -18.430722  1888     23   10.29\n",
       "NGC1407_S371 54.942917 -18.610333  1526     13    6.32\n",
       "NGC1407_S372 54.994208  -18.62725  1895     34    4.23\n",
       "NGC1407_S373 54.953542 -18.556333  1791      9    5.64\n",
       "NGC1407_S374 54.948875 -18.532333  2180     21     6.4"
      ]
     },
     "execution_count": 5,
     "metadata": {},
     "output_type": "execute_result"
    }
   ],
   "source": [
    "data"
   ]
  },
  {
   "cell_type": "code",
   "execution_count": 8,
   "metadata": {},
   "outputs": [
    {
     "data": {
      "text/plain": [
       "astropy.table.column.Column"
      ]
     },
     "execution_count": 8,
     "metadata": {},
     "output_type": "execute_result"
    }
   ],
   "source": [
    "type(data['RA'])"
   ]
  },
  {
   "cell_type": "markdown",
   "metadata": {},
   "source": [
    "Data needs to be in a dictionary to be passed to Stan"
   ]
  },
  {
   "cell_type": "code",
   "execution_count": 9,
   "metadata": {},
   "outputs": [],
   "source": [
    "#I think these need to be numpy arrays, they should already be but potential problem point\n",
    "standata = {\n",
    "    'N': len(data),\n",
    "\n",
    "    'ra_obs': data['RA'],\n",
    "    'dec_obs': data['DEC'],\n",
    "    \n",
    "    'r_obs': data['RAD'],\n",
    "    'rv_obs': data['RV'],\n",
    "    'rv_err': data['RV_err'],\n",
    "}"
   ]
  },
  {
   "cell_type": "markdown",
   "metadata": {},
   "source": [
    "Function which generates a dictionary with initial values. From Jeff: initial values must be specified for either all parameters xor none of the parameters. The type for each parameter must match what is defined in the Stan model."
   ]
  },
  {
   "cell_type": "code",
   "execution_count": 10,
   "metadata": {},
   "outputs": [],
   "source": [
    "# def init_gen():\n",
    "#     return {\n",
    "        \n",
    "#         #there needs to be a better prior here\n",
    "#         'rho0': np.random.uniform(0., 10**14),\n",
    "#         'a': np.random.uniform(0., 20.),\n",
    "        \n",
    "#         'z': np.full(standata['N'], 1e-6),\n",
    "#         'yv': np.full(standata['N'], 1e-6),\n",
    "#         'zv': np.ones(standata['N']),\n",
    "#         'xv': np.random.uniform(0, max(standata['r_measured']), size=int(standata['N']))\n",
    "#     }"
   ]
  },
  {
   "cell_type": "code",
   "execution_count": 24,
   "metadata": {},
   "outputs": [
    {
     "name": "stderr",
     "output_type": "stream",
     "text": [
      "INFO:pystan:COMPILING THE C++ CODE FOR MODEL anon_model_38d681e95bb95188d480258c74c2fe63 NOW.\n"
     ]
    }
   ],
   "source": [
    "with open('single_hernquist.stan', 'r') as f:\n",
    "    stancode = f.read()\n",
    "    \n",
    "sm = ps.StanModel(model_code=stancode)"
   ]
  },
  {
   "cell_type": "code",
   "execution_count": null,
   "metadata": {},
   "outputs": [],
   "source": []
  }
 ],
 "metadata": {
  "kernelspec": {
   "display_name": "Python 3",
   "language": "python",
   "name": "python3"
  },
  "language_info": {
   "codemirror_mode": {
    "name": "ipython",
    "version": 3
   },
   "file_extension": ".py",
   "mimetype": "text/x-python",
   "name": "python",
   "nbconvert_exporter": "python",
   "pygments_lexer": "ipython3",
   "version": "3.8.3"
  }
 },
 "nbformat": 4,
 "nbformat_minor": 4
}
